{
 "cells": [
  {
   "cell_type": "code",
   "id": "initial_id",
   "metadata": {
    "collapsed": true
   },
   "source": [
    "from __future__ import annotations\n",
    "\n",
    "from crawl4ai import AsyncWebCrawler, CrawlerRunConfig\n",
    "from crawl4ai.markdown_generation_strategy import DefaultMarkdownGenerator\n",
    "import gzip\n",
    "import pickle\n",
    "from pathlib import Path\n",
    "from typing import List, Union\n",
    "from langchain.schema import Document\n",
    "from helper.list_of_all_html import urls"
   ],
   "outputs": [],
   "execution_count": null
  },
  {
   "metadata": {},
   "cell_type": "markdown",
   "source": [
    "## Crawling with Crawl4AI\n",
    "`https://docs.crawl4ai.com/core/simple-crawling/`"
   ],
   "id": "de00281ce0ad3e5b"
  },
  {
   "metadata": {},
   "cell_type": "code",
   "source": [
    "async def crawl_docs(urls: list[str]) -> list[Document]:\n",
    "    md_gen = DefaultMarkdownGenerator(options={\"ignore_images\": True})\n",
    "    run_cfg = CrawlerRunConfig(\n",
    "        excluded_tags=[\"header\", \"footer\"],\n",
    "        excluded_selector=(\n",
    "            \"nav#dokuwiki__aside, \"\n",
    "            \"nav#dokuwiki__pagetools, \"\n",
    "            \"a.media, img, \"\n",
    "            \"div#dw__toc, \"\n",
    "            \"div.docInfo\"\n",
    "        ),\n",
    "        markdown_generator=md_gen,\n",
    "    )\n",
    "\n",
    "    async with AsyncWebCrawler() as crawler:\n",
    "        results = await crawler.arun_many(urls, config=run_cfg)\n",
    "\n",
    "    return [\n",
    "        Document(\n",
    "            page_content=res.markdown,\n",
    "            # use the URL recorded by the crawler, after redirects\n",
    "            metadata={\"url\": getattr(res, \"url\", None) or getattr(res, \"final_url\", None)}\n",
    "        )\n",
    "        for res in results\n",
    "    ]"
   ],
   "id": "3c2ac0296c72783b",
   "outputs": [],
   "execution_count": null
  },
  {
   "metadata": {},
   "cell_type": "markdown",
   "source": [
    "## Store to Pickle\n",
    "We are saving the docs in a pickle file to use in another jupyter notebook"
   ],
   "id": "bb1671bdbc7b483c"
  },
  {
   "metadata": {},
   "cell_type": "code",
   "source": [
    "def save_docs_pickle(docs: List[Document], file: str | Path = \"docs.pkl.gz\") -> Path:\n",
    "    \"\"\"Gzip‑pickle a list of documents (drop‑in replacement for your first script).\"\"\"\n",
    "    path = Path(file)\n",
    "    with gzip.open(path, \"wb\") as f:\n",
    "        pickle.dump(docs, f)\n",
    "    print(f\"Saved {len(docs)} documents → {path.resolve()}\")\n",
    "    return path"
   ],
   "id": "2cf69fffd152e246",
   "outputs": [],
   "execution_count": null
  },
  {
   "metadata": {},
   "cell_type": "markdown",
   "source": [
    "## Store to txt\n",
    "This is just for debugging. The txt will not be used in the RAG"
   ],
   "id": "93acecfbb77350a4"
  },
  {
   "metadata": {},
   "cell_type": "code",
   "source": [
    "def save_docs_txt(\n",
    "    docs: List[Document],\n",
    "    file: Union[str, Path] = \"docs.txt\",\n",
    "    *,\n",
    "    include_metadata: bool = True,\n",
    "    separator: str = \"\\n\\n\" + (\"-\" * 80) + \"\\n\\n\",\n",
    ") -> Path:\n",
    "    path = Path(file)\n",
    "    with path.open(\"w\", encoding=\"utf-8\") as fp:\n",
    "        for i, doc in enumerate(docs, start=1):\n",
    "            if include_metadata and doc.metadata:\n",
    "                fp.write(f\"[Document #{i} metadata]\\n{doc.metadata}\\n\\n\")\n",
    "            fp.write(doc.page_content.rstrip() + separator)\n",
    "    print(f\"Saved {len(docs)} documents → {path.resolve()}\")\n",
    "    return path"
   ],
   "id": "7bf0bea5a3a7594d",
   "outputs": [],
   "execution_count": null
  },
  {
   "metadata": {},
   "cell_type": "markdown",
   "source": "## Usage",
   "id": "6a160e0d4080f0a3"
  },
  {
   "metadata": {},
   "cell_type": "code",
   "source": [
    "docs = await crawl_docs(urls)\n",
    "save_docs_txt(docs)\n",
    "save_docs_pickle(docs)"
   ],
   "id": "93f048241601de75",
   "outputs": [],
   "execution_count": null
  }
 ],
 "metadata": {
  "kernelspec": {
   "display_name": "Python 3",
   "language": "python",
   "name": "python3"
  },
  "language_info": {
   "codemirror_mode": {
    "name": "ipython",
    "version": 2
   },
   "file_extension": ".py",
   "mimetype": "text/x-python",
   "name": "python",
   "nbconvert_exporter": "python",
   "pygments_lexer": "ipython2",
   "version": "2.7.6"
  }
 },
 "nbformat": 4,
 "nbformat_minor": 5
}
