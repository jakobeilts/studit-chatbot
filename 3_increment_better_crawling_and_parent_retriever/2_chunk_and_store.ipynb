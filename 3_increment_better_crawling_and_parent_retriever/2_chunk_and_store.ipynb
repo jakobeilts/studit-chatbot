{
 "cells": [
  {
   "metadata": {},
   "cell_type": "markdown",
   "source": "`https://python.langchain.com/docs/tutorials/rag/`",
   "id": "1f00b11ec1fe5949"
  },
  {
   "metadata": {
    "ExecuteTime": {
     "end_time": "2025-08-07T07:52:52.303514Z",
     "start_time": "2025-08-07T07:52:51.723821Z"
    }
   },
   "cell_type": "code",
   "source": [
    "from langchain.schema import Document   # whichever Document import you use\n",
    "import gzip, pickle\n",
    "from langchain_text_splitters import RecursiveCharacterTextSplitter\n",
    "from helper.academicCloudEmbeddings import AcademicCloudEmbeddings\n",
    "from langchain.vectorstores import FAISS\n",
    "import streamlit as st\n",
    "from langchain.retrievers import ParentDocumentRetriever\n",
    "from langchain.docstore import InMemoryDocstore"
   ],
   "id": "bcb919f176032563",
   "outputs": [],
   "execution_count": 1
  },
  {
   "metadata": {},
   "cell_type": "markdown",
   "source": [
    "# Indexing\n",
    "## 1. Load the data\n",
    "*In our case the data needs to be crawled first. See `crawl.ipynb`. There we are storing the documents in a pickle file we can load here*"
   ],
   "id": "94898054eb166bcd"
  },
  {
   "cell_type": "code",
   "id": "initial_id",
   "metadata": {
    "collapsed": true,
    "ExecuteTime": {
     "end_time": "2025-08-07T07:52:52.312228Z",
     "start_time": "2025-08-07T07:52:52.307867Z"
    }
   },
   "source": [
    "with gzip.open(\"docs.pkl.gz\", \"rb\") as f:\n",
    "    docs = pickle.load(f)\n",
    "\n",
    "# 2.  give every parent document a stable id  (one-liner)\n",
    "for i, d in enumerate(docs):\n",
    "    d.metadata[\"doc_id\"] = f\"doc_{i}\"            # <- save this id"
   ],
   "outputs": [],
   "execution_count": 2
  },
  {
   "metadata": {},
   "cell_type": "markdown",
   "source": [
    "## 2. Split the loaded data\n",
    "We are splitting large documents into smaller chunks for indexing the data and passing it into a model. Large chunks would be worse for search"
   ],
   "id": "4a88ca06244ef53e"
  },
  {
   "metadata": {
    "ExecuteTime": {
     "end_time": "2025-08-07T07:52:52.481504Z",
     "start_time": "2025-08-07T07:52:52.467933Z"
    }
   },
   "cell_type": "code",
   "source": [
    "# splitten – jede URL bleibt als metadata erhalten\n",
    "splitter = RecursiveCharacterTextSplitter(\n",
    "    chunk_size=1000,\n",
    "    chunk_overlap=200,\n",
    "    separators=[\"\\n\\n\", \"\\n\", \" \", \"\"],\n",
    ")\n",
    "child_docs = splitter.split_documents(docs)"
   ],
   "id": "3c28c248cfc5bf4",
   "outputs": [],
   "execution_count": 3
  },
  {
   "metadata": {},
   "cell_type": "markdown",
   "source": [
    "## 3. Store\n",
    "We are storing the created chunks:\n",
    "1. creating embeddings using the GWDG model\n",
    "2. storing in a FAISS store which can be saved locally to use later. That way we don't need to create the store every time we want to start the app"
   ],
   "id": "7f3e1af719d84598"
  },
  {
   "metadata": {
    "ExecuteTime": {
     "end_time": "2025-08-07T07:56:58.885842Z",
     "start_time": "2025-08-07T07:52:52.497990Z"
    }
   },
   "cell_type": "code",
   "source": [
    "# Embeddings und FAISS\n",
    "embedder = AcademicCloudEmbeddings(\n",
    "    api_key=st.secrets[\"GWDG_API_KEY\"],\n",
    "    url=st.secrets[\"BASE_URL_EMBEDDINGS\"],\n",
    ")\n",
    "child_vs = FAISS.from_documents(child_docs, embedder)\n",
    "child_vs.save_local(\"faiss_child_index\")"
   ],
   "id": "3442387cf7215906",
   "outputs": [],
   "execution_count": 4
  },
  {
   "metadata": {
    "ExecuteTime": {
     "end_time": "2025-08-07T08:03:20.138269Z",
     "start_time": "2025-08-07T08:03:20.126393Z"
    }
   },
   "cell_type": "code",
   "source": [
    "from langchain_core.stores import InMemoryStore\n",
    "\n",
    "# store the *parents* in an in-memory doc-store and pickle it\n",
    "parent_store = InMemoryStore()\n",
    "parent_store.mset([(d.metadata[\"doc_id\"], d) for d in docs])\n",
    "\n",
    "with open(\"parent_store.pkl\", \"wb\") as f:\n",
    "    pickle.dump(parent_store, f)"
   ],
   "id": "58641a010def4ae4",
   "outputs": [],
   "execution_count": 10
  },
  {
   "metadata": {
    "ExecuteTime": {
     "end_time": "2025-08-07T08:04:08.077519Z",
     "start_time": "2025-08-07T08:04:07.590081Z"
    }
   },
   "cell_type": "code",
   "source": [
    "# test\n",
    "with open(\"parent_store.pkl\", \"rb\") as f:\n",
    "    parent_store = pickle.load(f)\n",
    "\n",
    "retriever = ParentDocumentRetriever(\n",
    "    vectorstore    = child_vs,   # FAISS with your child chunks\n",
    "    docstore       = parent_store,   # ✔︎ now a BaseStore subclass\n",
    "    child_splitter = splitter,\n",
    "    search_kwargs  = {\"k\": 4},\n",
    ")\n",
    "print(retriever.get_relevant_documents(\"Eduroam Iphone\")[0].page_content)"
   ],
   "id": "aded82b0c091fcb9",
   "outputs": [
    {
     "name": "stdout",
     "output_type": "stream",
     "text": [
      "support:wlan:eduroam_iphone_ipad\n",
      "# eduroam mit iPhone oder iPad (ab Version iOS 11 und iPadOS 11)\n",
      "Im Folgenden wird erklärt, wie Du Dein iPhone oder iPad mit dem WPA2 verschlüsselten Netzwerk eduroam verbinden kannst. Vorweg das Wichtigste: \n",
      "Bei der Einrichtung der Verbindung bitte beachten: Der **„Benutzername“** ist eure **studentische Email-Adresse**! Also bspw. test.test@stud.uni-goettingen.de \n",
      "Seit kurzem werden ältere Sicherheitsprotokolle nicht mehr unterstützt. Um eine erfolgreiche Verbindung mit eduroam aufzubauen, wird _mindestens_ iOS Version 11 oder iPadOs Version 11 auf dem jeweiligen Geräte benötigt. Dafür unter Einstellungen–>Allgemein–>Software Update nach neuen Updates suchen.   \n",
      "\n",
      "Bitte nutze Safari als Browser, um eine erfolgreiche Installation und Einrichtung zu gewährleistet.   \n",
      "\n",
      "## eduroam\n",
      "Du kannst dich mit deinem iPhone oder iPad in das WLAN der Universität Göttingen (eduroam) einwählen und so mit sehr hohen Datenraten surfen. \n",
      "Wir empfehlen die Nutzung des verschlüsselten Netzwerks eduroam. Das Gästenetz Guest on Campus ist unverschlüsselt. Ein weiterer Vorteil gegenüber GuestOnCampus ist, dass eduroam auch an [anderen Hochschulstandorten](http://www.eduroam.org/index.php?p=where \"http://www.eduroam.org/index.php?p=where\") gesendet wird und ihr mit eurem Endgerät - einmal korrekt eingerichtet - sofort dort verbinden könnt. \n",
      "## eduroam CAT\n",
      "Hinweis: Bitte benutze **Safari** als Browser für die folgenden Schritte, damit eine erfolgreiche Einrichtung gewährleistet wird. \n",
      "1. Auf der Seite <https://cat.eduroam.org/> kannst du das Profil für eduroam herunterladen. Dazu suchst du „GWDG Goettingen“ für Mitarbeiter_innen oder „Universität Göttingen“ für Studierende und tippst darauf. \n",
      "2. Das Betriebssystem Apple iOS/ iPadOS wird automatisch erkannt, tippe auf den blauen Button „eduroam“. \n",
      "3. Schließe den Browser und öffne die „Einstellungen“. Unter dem Punkt „Allgemein“ ganz nach unten scrollen und unter „Profil“ („VPN und Geräteverwaltung“ auf neuerem iOS und iPadOS) das eduroam Konfigurationsprofil aus der Liste auswählen. \n",
      "4. Das Profil wird dir nun angezeigt. Klicke auf Installieren. \n",
      "5. Nun gibst du deinen Benutzernamen in der Form „account@stud.uni-goettingen.de“ ein… \n",
      "6. …und anschließend das Passwort. \n",
      "7. Das Profil ist nun installiert und dein Gerät verbindet sich nun automatisch mit eduroam, sobald du in Reichweite der Accesspoints bist. \n",
      "## Das Profil löschen\n",
      "1. Um das Profil zu löschen navigiere zu Einstellungen - Allgemein - Profil („VPN und Geräteverwaltung“ auf neuerem iOS und iPadOS) und tippe auf das Profil. \n",
      "2. Das Profil wird dir angezeigt und du kannst auf „Profil löschen“/„Profil entfernen“ tippen. \n",
      "3. Nun die obige Anleitung zur Einrichtung wieder durchgehen. \n",
      "## Weiterhin Probleme Eduroam zu verbinden?\n",
      "Seit Kurzem gibt es leider auch Probleme mit iOS Geräten:   \n",
      "Nach der Verwendung des CAT-Tools für eduroam wird das Profil als aktualisiert angezeigt, jedoch wurde es nicht aktualisiert.  \n",
      "Hierbei handelt es sich um einen Softwarefehler bei iOS/ iPadOS der aber wie folgt gelöst werden kann:  \n",
      "Ihr müsst für die Einrichtung nicht im Uninetz sein, es funktioniert also auch von zu Hause aus.  \n",
      "\n",
      "1. Achtung: Wenn eduroam vorher schon eingerichtet war, dann müssen diese Schritte zuerst gemacht werden:  \n",
      "Geht auf Einstellungen→WLAN→Klickt auf das „i“ rechts neben eduroam → „Dieses Netzwerk ignorieren“.  \n",
      "Unter Einstellungen→Allgemein→Profile („VPN und Geräteverwaltung“ auf neuerem iOS und iPadOS) müsst Ihr alle Profile entfernen, die mit „eduroam…“ benannt sind.  \n",
      "2. Besucht über Safari die Website <https://cat.eduroam.org>. Wenn sich keine Webseite nach paar Sekunden automatisch öffnet, einfach [wlan.gwdg.de](https://wlan.gwdg.de \"https://wlan.gwdg.de\") im Safari Webbrowser eingeben.  \n",
      "3. Auf der Website drückt Ihr auf „Klicken Sie hier, um Ihr eduroam Installationsprogramm herunterzuladen“ (großer blauer Button).  \n",
      "4. Wählt danach „Universität Göttingen“.  \n",
      "5. Klickt auf „Apple iOS mobile devices“ (großer blauer Button).  \n",
      "6. Dann wartet Ihr Kurz bis eine Meldung erscheint, die Ihr mit „Zulassen“ bestätigt.  \n",
      "7. Das nächste Fenster bestätigt Ihr mit „OK“.  \n",
      "8. Öffnet die Einstellungen: Klickt auf „Profil geladen“ und drückt immer auf „Installieren“ bzw. „Weiter“ bis ihr den Benutzernamen eingeben sollt. Dies ist eure studentische E-Mail-Adresse. Danach folgt euer Passwort.  \n",
      "9. Klickt auf „Fertig“. Eduroam sollte nun wieder funktionieren.  \n",
      "\n",
      "WLAN verbinden iphone apple ipod ipad app apps eduroam goemobile wireless funknetz \n",
      "* * *\n",
      "\n"
     ]
    }
   ],
   "execution_count": 14
  }
 ],
 "metadata": {
  "kernelspec": {
   "display_name": "Python 3",
   "language": "python",
   "name": "python3"
  },
  "language_info": {
   "codemirror_mode": {
    "name": "ipython",
    "version": 2
   },
   "file_extension": ".py",
   "mimetype": "text/x-python",
   "name": "python",
   "nbconvert_exporter": "python",
   "pygments_lexer": "ipython2",
   "version": "2.7.6"
  }
 },
 "nbformat": 4,
 "nbformat_minor": 5
}
