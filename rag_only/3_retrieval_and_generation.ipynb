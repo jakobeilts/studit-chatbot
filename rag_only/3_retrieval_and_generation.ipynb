{
 "cells": [
  {
   "metadata": {},
   "cell_type": "markdown",
   "source": "`https://python.langchain.com/docs/tutorials/rag/#orchestration`",
   "id": "e5f9168a8c36723f"
  },
  {
   "metadata": {
    "ExecuteTime": {
     "end_time": "2025-07-26T16:48:52.584042Z",
     "start_time": "2025-07-26T16:48:52.571643Z"
    }
   },
   "cell_type": "code",
   "source": [
    "import os\n",
    "from langchain.chat_models import init_chat_model\n",
    "from openai import api_key\n",
    "from typing_extensions import Annotated, TypedDict\n",
    "from langchain_community.vectorstores import FAISS\n",
    "from helper.academicCloudEmbeddings import AcademicCloudEmbeddings\n",
    "from langchain_core.documents import Document\n",
    "from typing_extensions import List, TypedDict\n",
    "import streamlit as st\n",
    "from langchain_community.chat_models import ChatOpenAI\n",
    "from langgraph.graph import START, StateGraph\n",
    "from IPython.display import Image, display\n",
    "from langchain_core.prompts import PromptTemplate\n",
    "\n",
    "if not os.environ.get(\"OPENAI_API_KEY\"):\n",
    "  os.environ[\"OPENAI_API_KEY\"] = st.secrets[\"GWDG_API_KEY\"]"
   ],
   "id": "d3042de9a98e3c6e",
   "outputs": [],
   "execution_count": 178
  },
  {
   "metadata": {},
   "cell_type": "markdown",
   "source": [
    "# Retrieval and Generation\n",
    "- taking a user question\n",
    "- searching for documents\n",
    "- passing retrieved documents and question to model\n",
    "- returning an answer"
   ],
   "id": "d6f28a1d1894e7f2"
  },
  {
   "metadata": {},
   "cell_type": "markdown",
   "source": "### using a prompt for RAG by LangChain",
   "id": "5e92b7ab771f117f"
  },
  {
   "metadata": {
    "ExecuteTime": {
     "end_time": "2025-07-26T16:48:52.630472Z",
     "start_time": "2025-07-26T16:48:52.614366Z"
    }
   },
   "cell_type": "code",
   "source": [
    "\n",
    "template = \"\"\"Du bist der hilfreiche StudIT‑Assistent der Universität Göttingen.\n",
    "• Antworte bevorzugt auf Deutsch.\n",
    "• Antworte so kurz wie möglich, aber so ausführlich wie nötig.\n",
    "• Falls du die Antwort nicht sicher weißt, schlage konkrete Anlaufstellen (Link oder E‑Mail) vor. Gib niemals eine Antwort von der du nicht 100% sicher bist, dass sie stimmt.\n",
    "Nutze den folgenden Kontext um die Frage zu beantworten:\n",
    "{context}\n",
    "\n",
    "Frage: {question}\n",
    "\n",
    "Antwort:\"\"\"\n",
    "prompt = PromptTemplate.from_template(template)\n",
    "example_messages = prompt.invoke(\n",
    "    {\"context\": \"(context goes here)\", \"question\": \"(question goes here)\"}\n",
    ").to_messages()\n",
    "\n",
    "assert len(example_messages) == 1\n",
    "print(example_messages[0].content)"
   ],
   "id": "c30ba6934da154be",
   "outputs": [
    {
     "name": "stdout",
     "output_type": "stream",
     "text": [
      "Du bist der hilfreiche StudIT‑Assistent der Universität Göttingen.\n",
      "• Antworte bevorzugt auf Deutsch.\n",
      "• Antworte so kurz wie möglich, aber so ausführlich wie nötig.\n",
      "• Falls du die Antwort nicht sicher weißt, schlage konkrete Anlaufstellen (Link oder E‑Mail) vor. Gib niemals eine Antwort von der du nicht 100% sicher bist, dass sie stimmt.\n",
      "Nutze den folgenden Kontext um die Frage zu beantworten:\n",
      "(context goes here)\n",
      "\n",
      "Frage: (question goes here)\n",
      "\n",
      "Antwort:\n"
     ]
    }
   ],
   "execution_count": 179
  },
  {
   "metadata": {},
   "cell_type": "markdown",
   "source": "### add tool for returning sources",
   "id": "f6eaab4514a58f4b"
  },
  {
   "metadata": {
    "ExecuteTime": {
     "end_time": "2025-07-26T16:48:52.655993Z",
     "start_time": "2025-07-26T16:48:52.652671Z"
    }
   },
   "cell_type": "code",
   "source": [
    "# Desired schema for response\n",
    "class AnswerWithSources(TypedDict):\n",
    "    \"\"\"An answer to the question, with sources.\"\"\"\n",
    "\n",
    "    answer: str\n",
    "    sources: Annotated[\n",
    "        List[str],\n",
    "        ...,\n",
    "        \"List of sources (url) used to answer the question\",\n",
    "    ]"
   ],
   "id": "7f08f100b8ef5eab",
   "outputs": [],
   "execution_count": 180
  },
  {
   "metadata": {},
   "cell_type": "markdown",
   "source": [
    "## LangGraph\n",
    "`https://langchain-ai.github.io/langgraph/?_gl=1*ozejfv*_ga*MjE0MzQ1NDExNS4xNzUxNDYxNDM0*_ga_47WX3HKKY2*czE3NTMzNjk1MTgkbzExJGcxJHQxNzUzMzcxODYxJGo2MCRsMCRoMA..`\n",
    "\n",
    "### 1. Define State:\n",
    "- controls what data is input to the application, transferred between steps, and output by the application\n",
    "- keep track of input question, retrieved context, and generated answer"
   ],
   "id": "c6e29271ccf33b11"
  },
  {
   "cell_type": "code",
   "id": "initial_id",
   "metadata": {
    "collapsed": true,
    "ExecuteTime": {
     "end_time": "2025-07-26T16:48:52.679227Z",
     "start_time": "2025-07-26T16:48:52.675070Z"
    }
   },
   "source": [
    "class State(TypedDict):\n",
    "    question: str\n",
    "    context: List[Document]\n",
    "    answer: AnswerWithSources"
   ],
   "outputs": [],
   "execution_count": 181
  },
  {
   "metadata": {},
   "cell_type": "markdown",
   "source": "#### load the vector store and models first",
   "id": "1f32745b63c6003d"
  },
  {
   "metadata": {
    "ExecuteTime": {
     "end_time": "2025-07-26T16:48:52.772301Z",
     "start_time": "2025-07-26T16:48:52.698556Z"
    }
   },
   "cell_type": "code",
   "source": [
    "VECTORSTORE_PATH = (\"faiss_wiki_index\")\n",
    "embedder = AcademicCloudEmbeddings(\n",
    "        api_key=st.secrets[\"GWDG_API_KEY\"],\n",
    "        url=st.secrets[\"BASE_URL_EMBEDDINGS\"],\n",
    "    )\n",
    "\n",
    "vector_store = FAISS.load_local(\n",
    "        VECTORSTORE_PATH,\n",
    "        embedder,\n",
    "        allow_dangerous_deserialization=True,\n",
    "    )\n",
    "\n",
    "llm = init_chat_model(\"meta-llama-3.1-8b-instruct\", model_provider=\"openai\", base_url=st.secrets[\"BASE_URL\"],temperature=0, api_key=st.secrets[\"GWDG_API_KEY\"])"
   ],
   "id": "544173090e0fdd2e",
   "outputs": [],
   "execution_count": 182
  },
  {
   "metadata": {},
   "cell_type": "markdown",
   "source": [
    "### 2. Nodes\n",
    "- retrieval\n",
    "- generation"
   ],
   "id": "d283da24b9422a04"
  },
  {
   "metadata": {
    "ExecuteTime": {
     "end_time": "2025-07-26T16:48:52.790587Z",
     "start_time": "2025-07-26T16:48:52.782568Z"
    }
   },
   "cell_type": "code",
   "source": [
    "def retrieve(state: State):\n",
    "    retrieved_docs = vector_store.similarity_search(state[\"question\"])\n",
    "    return {\"context\": retrieved_docs}\n",
    "\n",
    "def generate(state: State):\n",
    "    docs = state[\"context\"]\n",
    "    # build the answer\n",
    "    docs_content = \"\\n\\n\".join(doc.page_content for doc in state[\"context\"])\n",
    "    messages = prompt.invoke({\"question\": state[\"question\"], \"context\": docs_content})\n",
    "    structured_llm = llm.with_structured_output(AnswerWithSources)\n",
    "    resp: AnswerWithSources = structured_llm.invoke(messages)\n",
    "    # collect the URLs from metadata\n",
    "    # ------- overwrite the `sources` with the real URLs -------\n",
    "    resp[\"sources\"] = list(\n",
    "        {\n",
    "            d.metadata.get(\"url\")          # keep unique\n",
    "            for d in docs\n",
    "            if d.metadata.get(\"url\")\n",
    "        }\n",
    "    )\n",
    "\n",
    "    # LangGraph expects a dict whose keys become state slots\n",
    "    return {\"answer\": resp}"
   ],
   "id": "e9dbc20775be6154",
   "outputs": [],
   "execution_count": 183
  },
  {
   "metadata": {},
   "cell_type": "markdown",
   "source": [
    "### 3. compiling into a single graph object\n",
    "- connecting the retrieval and generation stepts into a single sequence"
   ],
   "id": "b98260dbcd1e66c4"
  },
  {
   "metadata": {
    "ExecuteTime": {
     "end_time": "2025-07-26T16:48:52.988817Z",
     "start_time": "2025-07-26T16:48:52.816072Z"
    }
   },
   "cell_type": "code",
   "source": [
    "graph_builder = StateGraph(State).add_sequence([retrieve, generate])\n",
    "graph_builder.add_edge(START, \"retrieve\")\n",
    "graph = graph_builder.compile()\n",
    "display(Image(graph.get_graph().draw_mermaid_png()))"
   ],
   "id": "e1bfff35a9ca767",
   "outputs": [
    {
     "data": {
      "image/png": "[encoded data removed]",
      "text/plain": [
       "<IPython.core.display.Image object>"
      ]
     },
     "metadata": {},
     "output_type": "display_data"
    }
   ],
   "execution_count": 184
  },
  {
   "metadata": {},
   "cell_type": "markdown",
   "source": "### 4. Usage",
   "id": "868f59aac4af7ba5"
  },
  {
   "metadata": {
    "ExecuteTime": {
     "end_time": "2025-07-26T16:48:53.017221Z",
     "start_time": "2025-07-26T16:48:53.013085Z"
    }
   },
   "cell_type": "code",
   "source": [
    "# DEFINE QUESTION HERE!\n",
    "#--------------------------------#-----------------------------------------#\n",
    "question = \"Welche Services bietet studIT?\"\n",
    "#--------------------------------#-----------------------------------------#"
   ],
   "id": "610e13c4ba4f1182",
   "outputs": [],
   "execution_count": 185
  },
  {
   "metadata": {
    "ExecuteTime": {
     "end_time": "2025-07-26T16:48:55.751651Z",
     "start_time": "2025-07-26T16:48:53.066190Z"
    }
   },
   "cell_type": "code",
   "source": [
    "result = graph.invoke({\"question\": question})\n",
    "\n",
    "#print(f\"Context: {result['context']}\\n\\n\")\n",
    "print(f\"Answer: {result['answer']}\")"
   ],
   "id": "acc5125f2421073b",
   "outputs": [
    {
     "name": "stdout",
     "output_type": "stream",
     "text": [
      "Answer: {'answer': 'studIT bietet folgende Services an: Bereitstellung von Windows-PCs (Clients) für die Studierenden, Verwaltung der Studierendenaccounts, Bereitstellung eines persönlichen Homeverzeichnisses mit 10 Gigabyte Speicherplatz, Beratung und Software, persönliche Unterstützung an drei Standorten, Hotline (0551 39 23366) und E-Mail (campussupport@uni-goettingen.de) sowie eingeschränkte Unterstützung am Wochenende.', 'sources': ['https://wiki.student.uni-goettingen.de/support/start', 'https://wiki.student.uni-goettingen.de/', 'https://wiki.student.uni-goettingen.de/support/studit_support/start']}\n"
     ]
    }
   ],
   "execution_count": 186
  }
 ],
 "metadata": {
  "kernelspec": {
   "display_name": "Python 3",
   "language": "python",
   "name": "python3"
  },
  "language_info": {
   "codemirror_mode": {
    "name": "ipython",
    "version": 2
   },
   "file_extension": ".py",
   "mimetype": "text/x-python",
   "name": "python",
   "nbconvert_exporter": "python",
   "pygments_lexer": "ipython2",
   "version": "2.7.6"
  }
 },
 "nbformat": 4,
 "nbformat_minor": 5
}
