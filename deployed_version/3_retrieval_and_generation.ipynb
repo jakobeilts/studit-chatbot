{
 "cells": [
  {
   "metadata": {},
   "cell_type": "markdown",
   "source": "`https://python.langchain.com/docs/tutorials/rag/#orchestration`",
   "id": "e5f9168a8c36723f"
  },
  {
   "metadata": {
    "ExecuteTime": {
     "end_time": "2025-07-26T16:49:09.200038Z",
     "start_time": "2025-07-26T16:49:09.158924Z"
    }
   },
   "cell_type": "code",
   "source": [
    "import os\n",
    "from langchain.chat_models import init_chat_model\n",
    "from openai import api_key\n",
    "from typing_extensions import Annotated, TypedDict\n",
    "from langchain_community.vectorstores import FAISS\n",
    "from helper.academicCloudEmbeddings import AcademicCloudEmbeddings\n",
    "from langchain_core.documents import Document\n",
    "from typing_extensions import List, TypedDict\n",
    "import streamlit as st\n",
    "from langchain_community.chat_models import ChatOpenAI\n",
    "from langgraph.graph import START, StateGraph\n",
    "from IPython.display import Image, display\n",
    "from langchain_core.prompts import PromptTemplate\n",
    "\n",
    "if not os.environ.get(\"OPENAI_API_KEY\"):\n",
    "  os.environ[\"OPENAI_API_KEY\"] = st.secrets[\"GWDG_API_KEY\"]"
   ],
   "id": "d3042de9a98e3c6e",
   "outputs": [],
   "execution_count": 278
  },
  {
   "metadata": {},
   "cell_type": "markdown",
   "source": [
    "# Retrieval and Generation\n",
    "- taking a user question\n",
    "- searching for documents\n",
    "- passing retrieved documents and question to model\n",
    "- returning an answer"
   ],
   "id": "d6f28a1d1894e7f2"
  },
  {
   "metadata": {},
   "cell_type": "markdown",
   "source": "### using a prompt for RAG by LangChain",
   "id": "5e92b7ab771f117f"
  },
  {
   "metadata": {
    "ExecuteTime": {
     "end_time": "2025-07-26T16:49:09.252653Z",
     "start_time": "2025-07-26T16:49:09.214610Z"
    }
   },
   "cell_type": "code",
   "source": [
    "\n",
    "template = \"\"\"Du bist der hilfreiche StudIT‑Assistent der Universität Göttingen.\n",
    "• Antworte bevorzugt auf Deutsch.\n",
    "• Antworte so kurz wie möglich, aber so ausführlich wie nötig.\n",
    "• Falls du die Antwort nicht sicher weißt, schlage konkrete Anlaufstellen (Link oder E‑Mail) vor. Gib niemals eine Antwort von der du nicht 100% sicher bist, dass sie stimmt.\n",
    "Nutze den folgenden Kontext um die Frage zu beantworten:\n",
    "{context}\n",
    "\n",
    "Frage: {question}\n",
    "\n",
    "Antwort:\"\"\"\n",
    "prompt = PromptTemplate.from_template(template)\n",
    "example_messages = prompt.invoke(\n",
    "    {\"context\": \"(context goes here)\", \"question\": \"(question goes here)\"}\n",
    ").to_messages()\n",
    "\n",
    "assert len(example_messages) == 1\n",
    "print(example_messages[0].content)"
   ],
   "id": "c30ba6934da154be",
   "outputs": [
    {
     "name": "stdout",
     "output_type": "stream",
     "text": [
      "Du bist der hilfreiche StudIT‑Assistent der Universität Göttingen.\n",
      "• Antworte bevorzugt auf Deutsch.\n",
      "• Antworte so kurz wie möglich, aber so ausführlich wie nötig.\n",
      "• Falls du die Antwort nicht sicher weißt, schlage konkrete Anlaufstellen (Link oder E‑Mail) vor. Gib niemals eine Antwort von der du nicht 100% sicher bist, dass sie stimmt.\n",
      "Nutze den folgenden Kontext um die Frage zu beantworten:\n",
      "(context goes here)\n",
      "\n",
      "Frage: (question goes here)\n",
      "\n",
      "Antwort:\n"
     ]
    }
   ],
   "execution_count": 279
  },
  {
   "metadata": {},
   "cell_type": "markdown",
   "source": "### add tool for returning sources",
   "id": "f6eaab4514a58f4b"
  },
  {
   "metadata": {
    "ExecuteTime": {
     "end_time": "2025-07-26T16:49:09.293318Z",
     "start_time": "2025-07-26T16:49:09.283508Z"
    }
   },
   "cell_type": "code",
   "source": [
    "# Desired schema for response\n",
    "class AnswerWithSources(TypedDict):\n",
    "    \"\"\"An answer to the question, with sources.\"\"\"\n",
    "\n",
    "    answer: str\n",
    "    sources: Annotated[\n",
    "        List[str],\n",
    "        ...,\n",
    "        \"List of sources (url) used to answer the question\",\n",
    "    ]"
   ],
   "id": "7f08f100b8ef5eab",
   "outputs": [],
   "execution_count": 280
  },
  {
   "metadata": {},
   "cell_type": "markdown",
   "source": [
    "## LangGraph\n",
    "`https://langchain-ai.github.io/langgraph/?_gl=1*ozejfv*_ga*MjE0MzQ1NDExNS4xNzUxNDYxNDM0*_ga_47WX3HKKY2*czE3NTMzNjk1MTgkbzExJGcxJHQxNzUzMzcxODYxJGo2MCRsMCRoMA..`\n",
    "\n",
    "### 1. Define State:\n",
    "- controls what data is input to the application, transferred between steps, and output by the application\n",
    "- keep track of input question, retrieved context, and generated answer"
   ],
   "id": "c6e29271ccf33b11"
  },
  {
   "cell_type": "code",
   "id": "initial_id",
   "metadata": {
    "collapsed": true,
    "ExecuteTime": {
     "end_time": "2025-07-26T16:49:09.312378Z",
     "start_time": "2025-07-26T16:49:09.308549Z"
    }
   },
   "source": "",
   "outputs": [],
   "execution_count": null
  },
  {
   "metadata": {
    "ExecuteTime": {
     "end_time": "2025-07-26T16:49:09.334077Z",
     "start_time": "2025-07-26T16:49:09.326368Z"
    }
   },
   "cell_type": "code",
   "source": [
    "from langgraph.graph import MessagesState, StateGraph\n",
    "class State(MessagesState):\n",
    "    context: List[Document]"
   ],
   "id": "1fab57cfc1e425cd",
   "outputs": [],
   "execution_count": 281
  },
  {
   "metadata": {},
   "cell_type": "markdown",
   "source": "#### load the vector store and models first",
   "id": "1f32745b63c6003d"
  },
  {
   "metadata": {
    "ExecuteTime": {
     "end_time": "2025-07-26T16:49:09.436622Z",
     "start_time": "2025-07-26T16:49:09.348602Z"
    }
   },
   "cell_type": "code",
   "source": [
    "VECTORSTORE_PATH = (\"faiss_wiki_index\")\n",
    "embedder = AcademicCloudEmbeddings(\n",
    "        api_key=st.secrets[\"GWDG_API_KEY\"],\n",
    "        url=st.secrets[\"BASE_URL_EMBEDDINGS\"],\n",
    "    )\n",
    "\n",
    "vector_store = FAISS.load_local(\n",
    "        VECTORSTORE_PATH,\n",
    "        embedder,\n",
    "        allow_dangerous_deserialization=True,\n",
    "    )\n",
    "\n",
    "llm = init_chat_model(\"meta-llama-3.1-8b-instruct\", model_provider=\"openai\", base_url=st.secrets[\"BASE_URL\"],temperature=0, api_key=st.secrets[\"GWDG_API_KEY\"])"
   ],
   "id": "544173090e0fdd2e",
   "outputs": [],
   "execution_count": 282
  },
  {
   "metadata": {},
   "cell_type": "markdown",
   "source": [
    "### 2. Nodes\n",
    "- retrieval\n",
    "- generation"
   ],
   "id": "d283da24b9422a04"
  },
  {
   "metadata": {
    "ExecuteTime": {
     "end_time": "2025-07-26T16:49:09.474460Z",
     "start_time": "2025-07-26T16:49:09.445628Z"
    }
   },
   "cell_type": "code",
   "source": [
    "from langchain_core.tools import tool\n",
    "\n",
    "\n",
    "@tool(response_format=\"content_and_artifact\")\n",
    "def retrieve(query: str):\n",
    "    \"\"\"Recherche‑Tool NUR für technische Fragen zur Uni Göttingen.\n",
    "    Rufe es auf, wenn die Nutzerfrage eindeutig dazu passt.\n",
    "    Gebe sonst KEIN Tool‑Call zurück.\"\"\"\n",
    "    retrieved_docs = vector_store.similarity_search(query, k=2)\n",
    "    serialized = \"\\n\\n\".join(\n",
    "        (f\"Source: {doc.metadata}\\nContent: {doc.page_content}\")\n",
    "        for doc in retrieved_docs\n",
    "    )\n",
    "    return serialized, retrieved_docs\n",
    "\n",
    "from langchain_core.messages import SystemMessage\n",
    "from langgraph.prebuilt import ToolNode\n",
    "\n",
    "\n",
    "# Step 1: Generate an AIMessage that may include a tool-call to be sent.\n",
    "def query_or_respond(state: MessagesState):\n",
    "    \"\"\"Generate tool call for retrieval or respond.\"\"\"\n",
    "    llm_with_tools = llm.bind_tools([retrieve])\n",
    "    response = llm_with_tools.invoke(state[\"messages\"])\n",
    "    # MessagesState appends messages to state instead of overwriting\n",
    "    return {\"messages\": [response]}\n",
    "\n",
    "\n",
    "# Step 2: Execute the retrieval.\n",
    "tools = ToolNode([retrieve])\n",
    "\n",
    "\n",
    "# Step 3: Generate a response using the retrieved content.\n",
    "def generate(state: MessagesState):\n",
    "    \"\"\"Generate answer.\"\"\"\n",
    "    # Get generated ToolMessages\n",
    "    recent_tool_messages = []\n",
    "    for message in reversed(state[\"messages\"]):\n",
    "        if message.type == \"tool\":\n",
    "            recent_tool_messages.append(message)\n",
    "        else:\n",
    "            break\n",
    "    tool_messages = recent_tool_messages[::-1]\n",
    "\n",
    "    # Format into prompt\n",
    "    docs_content = \"\\n\\n\".join(doc.content for doc in tool_messages)\n",
    "    system_message_content = (\n",
    "        \"Du bist ein Assistent, welcher Fragen beantworten soll. \"\n",
    "        \"Antworte **ohne** interne Erklärungen oder Meta‑Kommentare. \"\n",
    "        \"Wenn KEIN Tool benötigt wird, antworte einfach direkt. \"\n",
    "        \"Nutze die folgenden Abschnitte aus dem Kontext zu Beantwortung der Frage. \"\n",
    "        \"Wenn du die Antwort nicht kennst sag das einfach.\"\n",
    "        \"\\n\\n\"\n",
    "        f\"{docs_content}\"\n",
    "    )\n",
    "    conversation_messages = [\n",
    "        message\n",
    "        for message in state[\"messages\"]\n",
    "        if message.type in (\"human\", \"system\")\n",
    "        or (message.type == \"ai\" and not message.tool_calls)\n",
    "    ]\n",
    "    prompt = [SystemMessage(system_message_content)] + conversation_messages\n",
    "\n",
    "    # Run\n",
    "    response = llm.invoke(prompt)\n",
    "    context = []\n",
    "    for tool_message in tool_messages:\n",
    "        context.extend(tool_message.artifact)\n",
    "    return {\"messages\": [response], \"context\": context}"
   ],
   "id": "e9dbc20775be6154",
   "outputs": [],
   "execution_count": 283
  },
  {
   "metadata": {},
   "cell_type": "markdown",
   "source": [
    "### 3. compiling into a single graph object\n",
    "- connecting the retrieval and generation stepts into a single sequence"
   ],
   "id": "b98260dbcd1e66c4"
  },
  {
   "metadata": {
    "ExecuteTime": {
     "end_time": "2025-07-26T16:49:09.624044Z",
     "start_time": "2025-07-26T16:49:09.485400Z"
    }
   },
   "cell_type": "code",
   "source": [
    "from langgraph.graph import END\n",
    "from langgraph.prebuilt import ToolNode, tools_condition\n",
    "\n",
    "graph_builder = StateGraph(MessagesState)\n",
    "\n",
    "graph_builder.add_node(query_or_respond)\n",
    "graph_builder.add_node(tools)\n",
    "graph_builder.add_node(generate)\n",
    "\n",
    "graph_builder.set_entry_point(\"query_or_respond\")\n",
    "graph_builder.add_conditional_edges(\n",
    "    \"query_or_respond\",\n",
    "    tools_condition,\n",
    "    {END: END, \"tools\": \"tools\"},\n",
    ")\n",
    "graph_builder.add_edge(\"tools\", \"generate\")\n",
    "graph_builder.add_edge(\"generate\", END)\n",
    "\n",
    "from langgraph.checkpoint.memory import MemorySaver\n",
    "\n",
    "memory = MemorySaver()\n",
    "graph = graph_builder.compile(checkpointer=memory)\n",
    "\n",
    "# Specify an ID for the thread\n",
    "config = {\"configurable\": {\"thread_id\": \"abc123\"}}\n",
    "\n",
    "from IPython.display import Image, display\n",
    "\n",
    "display(Image(graph.get_graph().draw_mermaid_png()))"
   ],
   "id": "e1bfff35a9ca767",
   "outputs": [
    {
     "data": {
      "image/png": "[encoded data removed]",
      "text/plain": [
       "<IPython.core.display.Image object>"
      ]
     },
     "metadata": {},
     "output_type": "display_data"
    }
   ],
   "execution_count": 284
  },
  {
   "metadata": {},
   "cell_type": "markdown",
   "source": "### 4. Usage",
   "id": "868f59aac4af7ba5"
  },
  {
   "metadata": {
    "ExecuteTime": {
     "end_time": "2025-07-26T16:49:11.806954Z",
     "start_time": "2025-07-26T16:49:09.637663Z"
    }
   },
   "cell_type": "code",
   "source": [
    "\n",
    "\n",
    "input_message = \"Welche Standorte hat StudIT?\"\n",
    "\n",
    "for step in graph.stream(\n",
    "    {\"messages\": [{\"role\": \"user\", \"content\": input_message}]},\n",
    "    stream_mode=\"values\",\n",
    "    config=config,\n",
    "):\n",
    "    step[\"messages\"][-1].pretty_print()"
   ],
   "id": "610e13c4ba4f1182",
   "outputs": [
    {
     "name": "stdout",
     "output_type": "stream",
     "text": [
      "================================\u001B[1m Human Message \u001B[0m=================================\n",
      "\n",
      "Welche Standorte hat StudIT?\n",
      "==================================\u001B[1m Ai Message \u001B[0m==================================\n",
      "Tool Calls:\n",
      "  retrieve (chatcmpl-tool-93694dfd2b274d648009c41408b32c17)\n",
      " Call ID: chatcmpl-tool-93694dfd2b274d648009c41408b32c17\n",
      "  Args:\n",
      "    query: StudIT-Standorte\n",
      "=================================\u001B[1m Tool Message \u001B[0m=================================\n",
      "Name: retrieve\n",
      "\n",
      "Source: {'url': 'https://wiki.student.uni-goettingen.de/support/studit_support/standorte'}\n",
      "Content: support/studit_support/standorte.txt\n",
      "· Zuletzt geändert: 17.07.2025 11:19 von\n",
      "lange43\n",
      "Seiten-Werkzeuge\n",
      "Zeige Quelltext\n",
      "Ältere Versionen\n",
      "Links hierher\n",
      "PDF exportieren\n",
      "ODT exportieren\n",
      "Nach oben\n",
      "de\n",
      "en\n",
      "\n",
      "Source: {'url': 'https://wiki.student.uni-goettingen.de/'}\n",
      "Content: Mit unserem Angebot geben wir Euch in Form von Beratung und Software das Rüstzeug, um Eure kreativen Ideen für Euer Studium in die Realität umzusetzen.\n",
      "Wir stehen euch an drei Standorten über den ganzen Campus verteilt zur Seite, damit ihr die volle Vielfalt der IT nutzen könnt, um eure Ziele zu erreichen. Ob am Nordcampus, im Klinikum oder am Zentralcampus in der SUB – wir sind nicht weit entfernt.\n",
      "Ihr erreicht uns nicht nur persönlich, sondern auch per Hotline (0551 39 23366) oder auch per Mail (campussupport@uni-goettingen.de). Eingeschränkt sind wir auch am Wochenende für Euch da.\n",
      "Seit 1998 entwickelte sich unser Service von der „Internet-Hotline“ 2005 zur „studIT – IT-Service für Studierende“. Mittlerweile umfasst unser Team 25 Mitarbeitende, die Euch mit Rat und Tat zur Seite stehen.\n",
      "Deshalb kommt vorbei. Wir freuen uns darauf, Euch bei Euren Fragen zu unterstützen.\n",
      "Willkommen auf unseren Supportseiten\n",
      "Unsere Neuigkeiten\n",
      "==================================\u001B[1m Ai Message \u001B[0m==================================\n",
      "\n",
      "StudIT hat drei Standorte auf dem Campus der Universität Göttingen verteilt: \n",
      "\n",
      "1.  Nordcampus\n",
      "2.  Klinikum\n",
      "3.  Zentralcampus in der SUB\n"
     ]
    }
   ],
   "execution_count": 285
  },
  {
   "metadata": {
    "ExecuteTime": {
     "end_time": "2025-07-26T16:49:13.856003Z",
     "start_time": "2025-07-26T16:49:11.834338Z"
    }
   },
   "cell_type": "code",
   "source": [
    "\n",
    "\n",
    "input_message = \"Wie sind bei dem zweiten Standort die Öffnungszeiten?\"\n",
    "\n",
    "for step in graph.stream(\n",
    "    {\"messages\": [{\"role\": \"user\", \"content\": input_message}]},\n",
    "    stream_mode=\"values\",\n",
    "    config=config,\n",
    "):\n",
    "    step[\"messages\"][-1].pretty_print()\n"
   ],
   "id": "711417fa23d45d3b",
   "outputs": [
    {
     "name": "stdout",
     "output_type": "stream",
     "text": [
      "================================\u001B[1m Human Message \u001B[0m=================================\n",
      "\n",
      "Wie sind bei dem zweiten Standort die Öffnungszeiten?\n",
      "==================================\u001B[1m Ai Message \u001B[0m==================================\n",
      "Tool Calls:\n",
      "  retrieve (chatcmpl-tool-5864cc8d0b5d4bc7af6a627270062434)\n",
      " Call ID: chatcmpl-tool-5864cc8d0b5d4bc7af6a627270062434\n",
      "  Args:\n",
      "    query: Öffnungszeiten StudIT Klinikum\n",
      "=================================\u001B[1m Tool Message \u001B[0m=================================\n",
      "Name: retrieve\n",
      "\n",
      "Source: {'url': 'https://wiki.student.uni-goettingen.de/support/studit_support/lrc_med'}\n",
      "Content: Freitag: 10:00-13:00 Uhr\n",
      "In der vorlesungsfreien Zeit - vom 15. Februar bis zum 31. März und vom 15. August bis zum 30. September:\n",
      "Montag bis Donnerstag: 10:00-14.00 Uhr\n",
      "Freitag: 10:00-13:00 Uhr\n",
      "Dort werden folgende Serviceleistungen zur Verfügung gestellt:\n",
      "Ausgabe von Studierendenaccounts\n",
      "Neugenerierung von Passwörtern für den Account (und damit auch für Go@Med und die SB-Funktionen)\n",
      "Reguläre Account-Beratung mit\n",
      "WLAN-Beratung\n",
      "Chipkartenverlängerung (während der Öffnungszeiten des Helpdesks)\n",
      "Du findest uns in der Bereichsbibliothek der Universitätsmedizin.\n",
      "studIT support UMG LRC Med\n",
      "support/studit_support/lrc_med.txt\n",
      "· Zuletzt geändert: 01.07.2025 11:42 von\n",
      "lottmann1\n",
      "Seiten-Werkzeuge\n",
      "Zeige Quelltext\n",
      "Ältere Versionen\n",
      "Links hierher\n",
      "PDF exportieren\n",
      "ODT exportieren\n",
      "Nach oben\n",
      "de\n",
      "en\n",
      "\n",
      "Source: {'url': 'https://wiki.student.uni-goettingen.de/'}\n",
      "Content: Mit unserem Angebot geben wir Euch in Form von Beratung und Software das Rüstzeug, um Eure kreativen Ideen für Euer Studium in die Realität umzusetzen.\n",
      "Wir stehen euch an drei Standorten über den ganzen Campus verteilt zur Seite, damit ihr die volle Vielfalt der IT nutzen könnt, um eure Ziele zu erreichen. Ob am Nordcampus, im Klinikum oder am Zentralcampus in der SUB – wir sind nicht weit entfernt.\n",
      "Ihr erreicht uns nicht nur persönlich, sondern auch per Hotline (0551 39 23366) oder auch per Mail (campussupport@uni-goettingen.de). Eingeschränkt sind wir auch am Wochenende für Euch da.\n",
      "Seit 1998 entwickelte sich unser Service von der „Internet-Hotline“ 2005 zur „studIT – IT-Service für Studierende“. Mittlerweile umfasst unser Team 25 Mitarbeitende, die Euch mit Rat und Tat zur Seite stehen.\n",
      "Deshalb kommt vorbei. Wir freuen uns darauf, Euch bei Euren Fragen zu unterstützen.\n",
      "Willkommen auf unseren Supportseiten\n",
      "Unsere Neuigkeiten\n",
      "==================================\u001B[1m Ai Message \u001B[0m==================================\n",
      "\n",
      "Ich habe keine Informationen über die Öffnungszeiten des StudIT-Standorts im Klinikum.\n"
     ]
    }
   ],
   "execution_count": 286
  }
 ],
 "metadata": {
  "kernelspec": {
   "display_name": "Python 3",
   "language": "python",
   "name": "python3"
  },
  "language_info": {
   "codemirror_mode": {
    "name": "ipython",
    "version": 2
   },
   "file_extension": ".py",
   "mimetype": "text/x-python",
   "name": "python",
   "nbconvert_exporter": "python",
   "pygments_lexer": "ipython2",
   "version": "2.7.6"
  }
 },
 "nbformat": 4,
 "nbformat_minor": 5
}
