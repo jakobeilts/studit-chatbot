{
 "cells": [
  {
   "metadata": {},
   "cell_type": "markdown",
   "source": [
    "# Prompt um den Chunk in dem Dokument einzuordnen:\n",
    "`<document>\n",
    "{{WHOLE_DOCUMENT}}\n",
    "</document>\n",
    "Here is the chunk we want to situate within the whole document\n",
    "<chunk>\n",
    "{{CHUNK_CONTENT}}\n",
    "</chunk>\n",
    "Please give a short succinct context to situate this chunk within the overall document for the purposes of improving search retrieval of the chunk. Answer only with the succinct context and nothing else. `\n",
    "\n",
    "## load whole text (complete studit website)"
   ],
   "id": "5633f5d7de67ad88"
  },
  {
   "cell_type": "code",
   "id": "initial_id",
   "metadata": {
    "collapsed": true
   },
   "source": [
    "from pathlib import Path\n",
    "\n",
    "# Path to text file\n",
    "file_path = Path(\"docs.txt\")\n",
    "\n",
    "# Read all text into the variable `text`\n",
    "WHOLE_DOCUMENT = file_path.read_text(encoding=\"utf-8\")\n"
   ],
   "outputs": [],
   "execution_count": null
  },
  {
   "metadata": {},
   "cell_type": "markdown",
   "source": [
    "# EXAMPLE:\n",
    "This is what the result would look like for an example chunk:"
   ],
   "id": "28e4622cff127f8"
  },
  {
   "metadata": {},
   "cell_type": "code",
   "source": [
    "from openai import OpenAI\n",
    "import streamlit as st\n",
    "client = OpenAI(api_key = st.secrets[\"OPENAI_API_KEY\"])\n",
    "\n",
    "EXAMPLE_CHUNK = \"\"\"[Document #1 metadata]\n",
    "{'url': 'https://wiki.student.uni-goettingen.de/'}\n",
    "\n",
    "start\n",
    "## Wir sind studIT – Euer Servicepartner für IT-Fragen an der Uni\n",
    "Wir verstehen, dass Technologie das Herzstück der Zukunft ist. Deshalb bieten wir Euch IT-Services von Studierenden für Studierende an, die Euch helfen, Eure Zeit an der Uni IT-technisch erfolgreich zu gestalten. Mit unserem Angebot geben wir Euch in Form von Beratung und Software das Rüstzeug, um Eure kreativen Ideen für Euer Studium in die Realität umzusetzen.\n",
    "\n",
    "Wir stehen euch an drei Standorten über den ganzen Campus verteilt zur Seite, damit ihr die volle Vielfalt der IT nutzen könnt, um eure Ziele zu erreichen. Ob am Nordcampus, im Klinikum oder am Zentralcampus in der SUB – wir sind nicht weit entfernt. Ihr erreicht uns nicht nur persönlich, sondern auch per Hotline (0551 39 23366) oder auch per Mail (campussupport@uni-goettingen.de). Eingeschränkt sind wir auch am Wochenende für Euch da.\n",
    "\n",
    "Seit 1998 entwickelte sich unser Service von der „Internet-Hotline“ 2005 zur „studIT – IT-Service für Studierende“. Mittlerweile umfasst unser Team 25 Mitarbeitende, die Euch mit Rat und Tat zur Seite stehen. Deshalb kommt vorbei. Wir freuen uns darauf, Euch bei Euren Fragen zu unterstützen.\n",
    "## Willkommen auf unseren Supportseiten\n",
    "**Unsere Neuigkeiten** CKS ist seit dem 02.06.2025 geschlossen. Der Support und die Verlängerung von Studierendenausweisen befinden sich am Zentralcampus jetzt ausschließlich im LRC SUB\n",
    "---\n",
    "CKS am 02.05.2025 geschlossen / wegen Brückentag geschlossen\n",
    "Probleme Office OneDrive-Speicher / siehe Betriebsmeldung der GWDG [mehr](https://status.gwdg.de/incidents/192511)\n",
    "In der CKS nur noch Karten-Support, -Ausgabe und -Verlängerung / Der studIT-Helpdesk 'Chipkartenstelle' schließt ab dem 28.02.2025. Ab dem 01.03.2025 findet hier nur noch die Karten-Support, -Ausgabe und -Verlängerung statt! Um die Services für Euch zu verbessern, trennen wir Beratung und Karten-Services. Die Beratung von studIT ist am Zentralcampus weiterhin im LRC SUB (2. OG der Zentralbibliothek) für Euch da!\n",
    "\n",
    "\n",
    "\n",
    "\n",
    "\n",
    "\n",
    "\n",
    "Probleme / Feedback\n",
    "* * *\"\"\"\n",
    "\n",
    "prompt = f\"\"\"<document>\n",
    "{WHOLE_DOCUMENT}\n",
    "</document>\n",
    "Hier ist der Abschnitt, den wir im gesamten Dokument einordnen möchten.\n",
    "<chunk>\n",
    "{EXAMPLE_CHUNK}\n",
    "</chunk>\n",
    "Bitte gib einen kurzen, prägnanten Kontext an, um diesen Abschnitt im Gesamtdokument einzuordnen und die Suche nach diesem Abschnitt zu verbessern. Antworte nur mit dem prägnanten Kontext und nichts anderem. Dieser Kontext soll in einer späteren RAG Pipeline hilfreich sein. Der Kontext den du schreibst MUSS helfen, den Abschnitt zu finden, wenn jemand nach dem Abschnitt sucht. Schreibe **einen Satz (max 50 Wörter)**, der den Chunk für eine RAG-Suche einordnet.\n",
    "• Nutze nur Informationen, die im Chunk vorkommen.\n",
    "• Vermeide Interpretationen oder zusätzliche Details.\n",
    "• Benutze Keywords nur, wenn in diesem Chunk auch auf diese eingegangen wird. Nicht, nur wiel sie im Chunk erwähnt werden.\"\"\"\n",
    "\n",
    "response = client.responses.create(\n",
    "    model=\"gpt-4.1-nano\",\n",
    "    input=prompt\n",
    ")\n",
    "\n",
    "print(response.output_text)"
   ],
   "id": "44e0e0ac84df6ad7",
   "outputs": [],
   "execution_count": null
  }
 ],
 "metadata": {
  "kernelspec": {
   "display_name": "Python 3",
   "language": "python",
   "name": "python3"
  },
  "language_info": {
   "codemirror_mode": {
    "name": "ipython",
    "version": 2
   },
   "file_extension": ".py",
   "mimetype": "text/x-python",
   "name": "python",
   "nbconvert_exporter": "python",
   "pygments_lexer": "ipython2",
   "version": "2.7.6"
  }
 },
 "nbformat": 4,
 "nbformat_minor": 5
}
